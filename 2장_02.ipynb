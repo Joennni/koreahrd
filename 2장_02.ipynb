{
 "cells": [
  {
   "cell_type": "code",
   "execution_count": 36,
   "id": "01aa16f8-e19b-41cc-a28f-56eb75b487f5",
   "metadata": {},
   "outputs": [],
   "source": [
    "import sklearn"
   ]
  },
  {
   "cell_type": "code",
   "execution_count": 37,
   "id": "e222a7f6-6dc1-43b5-86d2-73458c7ca8f8",
   "metadata": {},
   "outputs": [
    {
     "data": {
      "text/plain": [
       "'0.24.2'"
      ]
     },
     "execution_count": 37,
     "metadata": {},
     "output_type": "execute_result"
    }
   ],
   "source": [
    "sklearn.__version__"
   ]
  },
  {
   "cell_type": "code",
   "execution_count": 38,
   "id": "faad55b3-6156-434b-addd-3c438d83b590",
   "metadata": {},
   "outputs": [],
   "source": [
    "from sklearn.datasets import load_iris\n",
    "from sklearn.tree import DecisionTreeClassifier\n",
    "from sklearn.model_selection import train_test_split"
   ]
  },
  {
   "cell_type": "code",
   "execution_count": 39,
   "id": "bbc1c39a-d05f-425e-abe9-2e4e1ff3b188",
   "metadata": {},
   "outputs": [],
   "source": [
    "import pandas as pd"
   ]
  },
  {
   "cell_type": "code",
   "execution_count": 40,
   "id": "c0a1185d-058d-4c2e-90fe-804c4003dc20",
   "metadata": {},
   "outputs": [],
   "source": [
    "iris = load_iris(as_frame=True)"
   ]
  },
  {
   "cell_type": "code",
   "execution_count": 41,
   "id": "5cd5c906-343e-457c-a733-bdaddf58fd46",
   "metadata": {},
   "outputs": [
    {
     "data": {
      "text/plain": [
       "sklearn.utils.Bunch"
      ]
     },
     "execution_count": 41,
     "metadata": {},
     "output_type": "execute_result"
    }
   ],
   "source": [
    "type(iris)"
   ]
  },
  {
   "cell_type": "code",
   "execution_count": 42,
   "id": "3f2e4055-2c48-4502-8314-b976f2823fe8",
   "metadata": {},
   "outputs": [
    {
     "data": {
      "text/plain": [
       "dict_keys(['data', 'target', 'frame', 'target_names', 'DESCR', 'feature_names', 'filename'])"
      ]
     },
     "execution_count": 42,
     "metadata": {},
     "output_type": "execute_result"
    }
   ],
   "source": [
    "iris.keys()"
   ]
  },
  {
   "cell_type": "code",
   "execution_count": 43,
   "id": "cd064375-0017-483d-a2d2-48ded5589638",
   "metadata": {},
   "outputs": [
    {
     "data": {
      "text/html": [
       "<div>\n",
       "<style scoped>\n",
       "    .dataframe tbody tr th:only-of-type {\n",
       "        vertical-align: middle;\n",
       "    }\n",
       "\n",
       "    .dataframe tbody tr th {\n",
       "        vertical-align: top;\n",
       "    }\n",
       "\n",
       "    .dataframe thead th {\n",
       "        text-align: right;\n",
       "    }\n",
       "</style>\n",
       "<table border=\"1\" class=\"dataframe\">\n",
       "  <thead>\n",
       "    <tr style=\"text-align: right;\">\n",
       "      <th></th>\n",
       "      <th>sepal length (cm)</th>\n",
       "      <th>sepal width (cm)</th>\n",
       "      <th>petal length (cm)</th>\n",
       "      <th>petal width (cm)</th>\n",
       "    </tr>\n",
       "  </thead>\n",
       "  <tbody>\n",
       "    <tr>\n",
       "      <th>0</th>\n",
       "      <td>5.1</td>\n",
       "      <td>3.5</td>\n",
       "      <td>1.4</td>\n",
       "      <td>0.2</td>\n",
       "    </tr>\n",
       "    <tr>\n",
       "      <th>1</th>\n",
       "      <td>4.9</td>\n",
       "      <td>3.0</td>\n",
       "      <td>1.4</td>\n",
       "      <td>0.2</td>\n",
       "    </tr>\n",
       "    <tr>\n",
       "      <th>2</th>\n",
       "      <td>4.7</td>\n",
       "      <td>3.2</td>\n",
       "      <td>1.3</td>\n",
       "      <td>0.2</td>\n",
       "    </tr>\n",
       "    <tr>\n",
       "      <th>3</th>\n",
       "      <td>4.6</td>\n",
       "      <td>3.1</td>\n",
       "      <td>1.5</td>\n",
       "      <td>0.2</td>\n",
       "    </tr>\n",
       "    <tr>\n",
       "      <th>4</th>\n",
       "      <td>5.0</td>\n",
       "      <td>3.6</td>\n",
       "      <td>1.4</td>\n",
       "      <td>0.2</td>\n",
       "    </tr>\n",
       "    <tr>\n",
       "      <th>...</th>\n",
       "      <td>...</td>\n",
       "      <td>...</td>\n",
       "      <td>...</td>\n",
       "      <td>...</td>\n",
       "    </tr>\n",
       "    <tr>\n",
       "      <th>145</th>\n",
       "      <td>6.7</td>\n",
       "      <td>3.0</td>\n",
       "      <td>5.2</td>\n",
       "      <td>2.3</td>\n",
       "    </tr>\n",
       "    <tr>\n",
       "      <th>146</th>\n",
       "      <td>6.3</td>\n",
       "      <td>2.5</td>\n",
       "      <td>5.0</td>\n",
       "      <td>1.9</td>\n",
       "    </tr>\n",
       "    <tr>\n",
       "      <th>147</th>\n",
       "      <td>6.5</td>\n",
       "      <td>3.0</td>\n",
       "      <td>5.2</td>\n",
       "      <td>2.0</td>\n",
       "    </tr>\n",
       "    <tr>\n",
       "      <th>148</th>\n",
       "      <td>6.2</td>\n",
       "      <td>3.4</td>\n",
       "      <td>5.4</td>\n",
       "      <td>2.3</td>\n",
       "    </tr>\n",
       "    <tr>\n",
       "      <th>149</th>\n",
       "      <td>5.9</td>\n",
       "      <td>3.0</td>\n",
       "      <td>5.1</td>\n",
       "      <td>1.8</td>\n",
       "    </tr>\n",
       "  </tbody>\n",
       "</table>\n",
       "<p>150 rows × 4 columns</p>\n",
       "</div>"
      ],
      "text/plain": [
       "     sepal length (cm)  sepal width (cm)  petal length (cm)  petal width (cm)\n",
       "0                  5.1               3.5                1.4               0.2\n",
       "1                  4.9               3.0                1.4               0.2\n",
       "2                  4.7               3.2                1.3               0.2\n",
       "3                  4.6               3.1                1.5               0.2\n",
       "4                  5.0               3.6                1.4               0.2\n",
       "..                 ...               ...                ...               ...\n",
       "145                6.7               3.0                5.2               2.3\n",
       "146                6.3               2.5                5.0               1.9\n",
       "147                6.5               3.0                5.2               2.0\n",
       "148                6.2               3.4                5.4               2.3\n",
       "149                5.9               3.0                5.1               1.8\n",
       "\n",
       "[150 rows x 4 columns]"
      ]
     },
     "execution_count": 43,
     "metadata": {},
     "output_type": "execute_result"
    }
   ],
   "source": [
    "iris['data']"
   ]
  },
  {
   "cell_type": "code",
   "execution_count": 44,
   "id": "51cb968b-0241-49f4-b7a7-9b8095711336",
   "metadata": {},
   "outputs": [
    {
     "data": {
      "text/plain": [
       "array(['setosa', 'versicolor', 'virginica'], dtype='<U10')"
      ]
     },
     "execution_count": 44,
     "metadata": {},
     "output_type": "execute_result"
    }
   ],
   "source": [
    "iris.target_names"
   ]
  },
  {
   "cell_type": "code",
   "execution_count": 45,
   "id": "003fd5d9-4034-4fcc-a057-7984b52a0d9b",
   "metadata": {},
   "outputs": [
    {
     "data": {
      "text/plain": [
       "{'data':      sepal length (cm)  sepal width (cm)  petal length (cm)  petal width (cm)\n",
       " 0                  5.1               3.5                1.4               0.2\n",
       " 1                  4.9               3.0                1.4               0.2\n",
       " 2                  4.7               3.2                1.3               0.2\n",
       " 3                  4.6               3.1                1.5               0.2\n",
       " 4                  5.0               3.6                1.4               0.2\n",
       " ..                 ...               ...                ...               ...\n",
       " 145                6.7               3.0                5.2               2.3\n",
       " 146                6.3               2.5                5.0               1.9\n",
       " 147                6.5               3.0                5.2               2.0\n",
       " 148                6.2               3.4                5.4               2.3\n",
       " 149                5.9               3.0                5.1               1.8\n",
       " \n",
       " [150 rows x 4 columns],\n",
       " 'target': 0      0\n",
       " 1      0\n",
       " 2      0\n",
       " 3      0\n",
       " 4      0\n",
       "       ..\n",
       " 145    2\n",
       " 146    2\n",
       " 147    2\n",
       " 148    2\n",
       " 149    2\n",
       " Name: target, Length: 150, dtype: int32,\n",
       " 'frame':      sepal length (cm)  sepal width (cm)  petal length (cm)  petal width (cm)  \\\n",
       " 0                  5.1               3.5                1.4               0.2   \n",
       " 1                  4.9               3.0                1.4               0.2   \n",
       " 2                  4.7               3.2                1.3               0.2   \n",
       " 3                  4.6               3.1                1.5               0.2   \n",
       " 4                  5.0               3.6                1.4               0.2   \n",
       " ..                 ...               ...                ...               ...   \n",
       " 145                6.7               3.0                5.2               2.3   \n",
       " 146                6.3               2.5                5.0               1.9   \n",
       " 147                6.5               3.0                5.2               2.0   \n",
       " 148                6.2               3.4                5.4               2.3   \n",
       " 149                5.9               3.0                5.1               1.8   \n",
       " \n",
       "      target  \n",
       " 0         0  \n",
       " 1         0  \n",
       " 2         0  \n",
       " 3         0  \n",
       " 4         0  \n",
       " ..      ...  \n",
       " 145       2  \n",
       " 146       2  \n",
       " 147       2  \n",
       " 148       2  \n",
       " 149       2  \n",
       " \n",
       " [150 rows x 5 columns],\n",
       " 'target_names': array(['setosa', 'versicolor', 'virginica'], dtype='<U10'),\n",
       " 'DESCR': '.. _iris_dataset:\\n\\nIris plants dataset\\n--------------------\\n\\n**Data Set Characteristics:**\\n\\n    :Number of Instances: 150 (50 in each of three classes)\\n    :Number of Attributes: 4 numeric, predictive attributes and the class\\n    :Attribute Information:\\n        - sepal length in cm\\n        - sepal width in cm\\n        - petal length in cm\\n        - petal width in cm\\n        - class:\\n                - Iris-Setosa\\n                - Iris-Versicolour\\n                - Iris-Virginica\\n                \\n    :Summary Statistics:\\n\\n    ============== ==== ==== ======= ===== ====================\\n                    Min  Max   Mean    SD   Class Correlation\\n    ============== ==== ==== ======= ===== ====================\\n    sepal length:   4.3  7.9   5.84   0.83    0.7826\\n    sepal width:    2.0  4.4   3.05   0.43   -0.4194\\n    petal length:   1.0  6.9   3.76   1.76    0.9490  (high!)\\n    petal width:    0.1  2.5   1.20   0.76    0.9565  (high!)\\n    ============== ==== ==== ======= ===== ====================\\n\\n    :Missing Attribute Values: None\\n    :Class Distribution: 33.3% for each of 3 classes.\\n    :Creator: R.A. Fisher\\n    :Donor: Michael Marshall (MARSHALL%PLU@io.arc.nasa.gov)\\n    :Date: July, 1988\\n\\nThe famous Iris database, first used by Sir R.A. Fisher. The dataset is taken\\nfrom Fisher\\'s paper. Note that it\\'s the same as in R, but not as in the UCI\\nMachine Learning Repository, which has two wrong data points.\\n\\nThis is perhaps the best known database to be found in the\\npattern recognition literature.  Fisher\\'s paper is a classic in the field and\\nis referenced frequently to this day.  (See Duda & Hart, for example.)  The\\ndata set contains 3 classes of 50 instances each, where each class refers to a\\ntype of iris plant.  One class is linearly separable from the other 2; the\\nlatter are NOT linearly separable from each other.\\n\\n.. topic:: References\\n\\n   - Fisher, R.A. \"The use of multiple measurements in taxonomic problems\"\\n     Annual Eugenics, 7, Part II, 179-188 (1936); also in \"Contributions to\\n     Mathematical Statistics\" (John Wiley, NY, 1950).\\n   - Duda, R.O., & Hart, P.E. (1973) Pattern Classification and Scene Analysis.\\n     (Q327.D83) John Wiley & Sons.  ISBN 0-471-22361-1.  See page 218.\\n   - Dasarathy, B.V. (1980) \"Nosing Around the Neighborhood: A New System\\n     Structure and Classification Rule for Recognition in Partially Exposed\\n     Environments\".  IEEE Transactions on Pattern Analysis and Machine\\n     Intelligence, Vol. PAMI-2, No. 1, 67-71.\\n   - Gates, G.W. (1972) \"The Reduced Nearest Neighbor Rule\".  IEEE Transactions\\n     on Information Theory, May 1972, 431-433.\\n   - See also: 1988 MLC Proceedings, 54-64.  Cheeseman et al\"s AUTOCLASS II\\n     conceptual clustering system finds 3 classes in the data.\\n   - Many, many more ...',\n",
       " 'feature_names': ['sepal length (cm)',\n",
       "  'sepal width (cm)',\n",
       "  'petal length (cm)',\n",
       "  'petal width (cm)'],\n",
       " 'filename': 'C:\\\\Users\\\\user.DESKTOP-N8383DL\\\\anaconda3\\\\lib\\\\site-packages\\\\sklearn\\\\datasets\\\\data\\\\iris.csv'}"
      ]
     },
     "execution_count": 45,
     "metadata": {},
     "output_type": "execute_result"
    }
   ],
   "source": [
    "iris"
   ]
  },
  {
   "cell_type": "code",
   "execution_count": 46,
   "id": "e0b4c7fb-b4d2-4b0a-af5a-4316fbee2649",
   "metadata": {},
   "outputs": [
    {
     "data": {
      "text/html": [
       "<div>\n",
       "<style scoped>\n",
       "    .dataframe tbody tr th:only-of-type {\n",
       "        vertical-align: middle;\n",
       "    }\n",
       "\n",
       "    .dataframe tbody tr th {\n",
       "        vertical-align: top;\n",
       "    }\n",
       "\n",
       "    .dataframe thead th {\n",
       "        text-align: right;\n",
       "    }\n",
       "</style>\n",
       "<table border=\"1\" class=\"dataframe\">\n",
       "  <thead>\n",
       "    <tr style=\"text-align: right;\">\n",
       "      <th></th>\n",
       "      <th>sepal length (cm)</th>\n",
       "      <th>sepal width (cm)</th>\n",
       "      <th>petal length (cm)</th>\n",
       "      <th>petal width (cm)</th>\n",
       "      <th>target</th>\n",
       "    </tr>\n",
       "  </thead>\n",
       "  <tbody>\n",
       "    <tr>\n",
       "      <th>0</th>\n",
       "      <td>5.1</td>\n",
       "      <td>3.5</td>\n",
       "      <td>1.4</td>\n",
       "      <td>0.2</td>\n",
       "      <td>0</td>\n",
       "    </tr>\n",
       "    <tr>\n",
       "      <th>1</th>\n",
       "      <td>4.9</td>\n",
       "      <td>3.0</td>\n",
       "      <td>1.4</td>\n",
       "      <td>0.2</td>\n",
       "      <td>0</td>\n",
       "    </tr>\n",
       "    <tr>\n",
       "      <th>2</th>\n",
       "      <td>4.7</td>\n",
       "      <td>3.2</td>\n",
       "      <td>1.3</td>\n",
       "      <td>0.2</td>\n",
       "      <td>0</td>\n",
       "    </tr>\n",
       "    <tr>\n",
       "      <th>3</th>\n",
       "      <td>4.6</td>\n",
       "      <td>3.1</td>\n",
       "      <td>1.5</td>\n",
       "      <td>0.2</td>\n",
       "      <td>0</td>\n",
       "    </tr>\n",
       "    <tr>\n",
       "      <th>4</th>\n",
       "      <td>5.0</td>\n",
       "      <td>3.6</td>\n",
       "      <td>1.4</td>\n",
       "      <td>0.2</td>\n",
       "      <td>0</td>\n",
       "    </tr>\n",
       "    <tr>\n",
       "      <th>...</th>\n",
       "      <td>...</td>\n",
       "      <td>...</td>\n",
       "      <td>...</td>\n",
       "      <td>...</td>\n",
       "      <td>...</td>\n",
       "    </tr>\n",
       "    <tr>\n",
       "      <th>145</th>\n",
       "      <td>6.7</td>\n",
       "      <td>3.0</td>\n",
       "      <td>5.2</td>\n",
       "      <td>2.3</td>\n",
       "      <td>2</td>\n",
       "    </tr>\n",
       "    <tr>\n",
       "      <th>146</th>\n",
       "      <td>6.3</td>\n",
       "      <td>2.5</td>\n",
       "      <td>5.0</td>\n",
       "      <td>1.9</td>\n",
       "      <td>2</td>\n",
       "    </tr>\n",
       "    <tr>\n",
       "      <th>147</th>\n",
       "      <td>6.5</td>\n",
       "      <td>3.0</td>\n",
       "      <td>5.2</td>\n",
       "      <td>2.0</td>\n",
       "      <td>2</td>\n",
       "    </tr>\n",
       "    <tr>\n",
       "      <th>148</th>\n",
       "      <td>6.2</td>\n",
       "      <td>3.4</td>\n",
       "      <td>5.4</td>\n",
       "      <td>2.3</td>\n",
       "      <td>2</td>\n",
       "    </tr>\n",
       "    <tr>\n",
       "      <th>149</th>\n",
       "      <td>5.9</td>\n",
       "      <td>3.0</td>\n",
       "      <td>5.1</td>\n",
       "      <td>1.8</td>\n",
       "      <td>2</td>\n",
       "    </tr>\n",
       "  </tbody>\n",
       "</table>\n",
       "<p>150 rows × 5 columns</p>\n",
       "</div>"
      ],
      "text/plain": [
       "     sepal length (cm)  sepal width (cm)  petal length (cm)  petal width (cm)  \\\n",
       "0                  5.1               3.5                1.4               0.2   \n",
       "1                  4.9               3.0                1.4               0.2   \n",
       "2                  4.7               3.2                1.3               0.2   \n",
       "3                  4.6               3.1                1.5               0.2   \n",
       "4                  5.0               3.6                1.4               0.2   \n",
       "..                 ...               ...                ...               ...   \n",
       "145                6.7               3.0                5.2               2.3   \n",
       "146                6.3               2.5                5.0               1.9   \n",
       "147                6.5               3.0                5.2               2.0   \n",
       "148                6.2               3.4                5.4               2.3   \n",
       "149                5.9               3.0                5.1               1.8   \n",
       "\n",
       "     target  \n",
       "0         0  \n",
       "1         0  \n",
       "2         0  \n",
       "3         0  \n",
       "4         0  \n",
       "..      ...  \n",
       "145       2  \n",
       "146       2  \n",
       "147       2  \n",
       "148       2  \n",
       "149       2  \n",
       "\n",
       "[150 rows x 5 columns]"
      ]
     },
     "execution_count": 46,
     "metadata": {},
     "output_type": "execute_result"
    }
   ],
   "source": [
    "iris_df = iris['data']\n",
    "iris_df['target'] = iris['target']\n",
    "iris_df"
   ]
  },
  {
   "cell_type": "code",
   "execution_count": 47,
   "id": "a4f860a6-e4ea-43af-8c73-ec0054fad25c",
   "metadata": {},
   "outputs": [],
   "source": [
    "X_train, X_test, y_train, y_test = train_test_split(iris.data,\n",
    "                                                    iris.target, \n",
    "                                                    test_size=0.2 \n",
    "                                                   )"
   ]
  },
  {
   "cell_type": "code",
   "execution_count": 48,
   "id": "f2282ec8-35c5-41a2-a284-d8f44a5391f1",
   "metadata": {},
   "outputs": [
    {
     "data": {
      "text/plain": [
       "(     sepal length (cm)  sepal width (cm)  petal length (cm)  petal width (cm)  \\\n",
       " 79                 5.7               2.6                3.5               1.0   \n",
       " 111                6.4               2.7                5.3               1.9   \n",
       " 1                  4.9               3.0                1.4               0.2   \n",
       " 90                 5.5               2.6                4.4               1.2   \n",
       " 106                4.9               2.5                4.5               1.7   \n",
       " ..                 ...               ...                ...               ...   \n",
       " 17                 5.1               3.5                1.4               0.3   \n",
       " 132                6.4               2.8                5.6               2.2   \n",
       " 39                 5.1               3.4                1.5               0.2   \n",
       " 121                5.6               2.8                4.9               2.0   \n",
       " 97                 6.2               2.9                4.3               1.3   \n",
       " \n",
       "      target  \n",
       " 79        1  \n",
       " 111       2  \n",
       " 1         0  \n",
       " 90        1  \n",
       " 106       2  \n",
       " ..      ...  \n",
       " 17        0  \n",
       " 132       2  \n",
       " 39        0  \n",
       " 121       2  \n",
       " 97        1  \n",
       " \n",
       " [120 rows x 5 columns],\n",
       "      sepal length (cm)  sepal width (cm)  petal length (cm)  petal width (cm)  \\\n",
       " 46                 5.1               3.8                1.6               0.2   \n",
       " 145                6.7               3.0                5.2               2.3   \n",
       " 110                6.5               3.2                5.1               2.0   \n",
       " 12                 4.8               3.0                1.4               0.1   \n",
       " 48                 5.3               3.7                1.5               0.2   \n",
       " 21                 5.1               3.7                1.5               0.4   \n",
       " 11                 4.8               3.4                1.6               0.2   \n",
       " 136                6.3               3.4                5.6               2.4   \n",
       " 50                 7.0               3.2                4.7               1.4   \n",
       " 92                 5.8               2.6                4.0               1.2   \n",
       " 131                7.9               3.8                6.4               2.0   \n",
       " 80                 5.5               2.4                3.8               1.1   \n",
       " 120                6.9               3.2                5.7               2.3   \n",
       " 33                 5.5               4.2                1.4               0.2   \n",
       " 128                6.4               2.8                5.6               2.1   \n",
       " 3                  4.6               3.1                1.5               0.2   \n",
       " 9                  4.9               3.1                1.5               0.1   \n",
       " 91                 6.1               3.0                4.6               1.4   \n",
       " 118                7.7               2.6                6.9               2.3   \n",
       " 109                7.2               3.6                6.1               2.5   \n",
       " 138                6.0               3.0                4.8               1.8   \n",
       " 10                 5.4               3.7                1.5               0.2   \n",
       " 141                6.9               3.1                5.1               2.3   \n",
       " 117                7.7               3.8                6.7               2.2   \n",
       " 77                 6.7               3.0                5.0               1.7   \n",
       " 85                 6.0               3.4                4.5               1.6   \n",
       " 81                 5.5               2.4                3.7               1.0   \n",
       " 32                 5.2               4.1                1.5               0.1   \n",
       " 98                 5.1               2.5                3.0               1.1   \n",
       " 102                7.1               3.0                5.9               2.1   \n",
       " \n",
       "      target  \n",
       " 46        0  \n",
       " 145       2  \n",
       " 110       2  \n",
       " 12        0  \n",
       " 48        0  \n",
       " 21        0  \n",
       " 11        0  \n",
       " 136       2  \n",
       " 50        1  \n",
       " 92        1  \n",
       " 131       2  \n",
       " 80        1  \n",
       " 120       2  \n",
       " 33        0  \n",
       " 128       2  \n",
       " 3         0  \n",
       " 9         0  \n",
       " 91        1  \n",
       " 118       2  \n",
       " 109       2  \n",
       " 138       2  \n",
       " 10        0  \n",
       " 141       2  \n",
       " 117       2  \n",
       " 77        1  \n",
       " 85        1  \n",
       " 81        1  \n",
       " 32        0  \n",
       " 98        1  \n",
       " 102       2  ,\n",
       " 79     1\n",
       " 111    2\n",
       " 1      0\n",
       " 90     1\n",
       " 106    2\n",
       "       ..\n",
       " 17     0\n",
       " 132    2\n",
       " 39     0\n",
       " 121    2\n",
       " 97     1\n",
       " Name: target, Length: 120, dtype: int32,\n",
       " 46     0\n",
       " 145    2\n",
       " 110    2\n",
       " 12     0\n",
       " 48     0\n",
       " 21     0\n",
       " 11     0\n",
       " 136    2\n",
       " 50     1\n",
       " 92     1\n",
       " 131    2\n",
       " 80     1\n",
       " 120    2\n",
       " 33     0\n",
       " 128    2\n",
       " 3      0\n",
       " 9      0\n",
       " 91     1\n",
       " 118    2\n",
       " 109    2\n",
       " 138    2\n",
       " 10     0\n",
       " 141    2\n",
       " 117    2\n",
       " 77     1\n",
       " 85     1\n",
       " 81     1\n",
       " 32     0\n",
       " 98     1\n",
       " 102    2\n",
       " Name: target, dtype: int32)"
      ]
     },
     "execution_count": 48,
     "metadata": {},
     "output_type": "execute_result"
    }
   ],
   "source": [
    "X_train, X_test, y_train, y_test"
   ]
  },
  {
   "cell_type": "code",
   "execution_count": 49,
   "id": "984acd7e-6817-4961-adc4-b39d60be34bb",
   "metadata": {},
   "outputs": [
    {
     "data": {
      "text/plain": [
       "pandas.core.frame.DataFrame"
      ]
     },
     "execution_count": 49,
     "metadata": {},
     "output_type": "execute_result"
    }
   ],
   "source": [
    "type(X_train)"
   ]
  },
  {
   "cell_type": "code",
   "execution_count": 50,
   "id": "fe83f3b3-2363-4d73-a972-4d646ae8ad66",
   "metadata": {},
   "outputs": [],
   "source": [
    "#model\n",
    "df_model = DecisionTreeClassifier(random_state=11)"
   ]
  },
  {
   "cell_type": "code",
   "execution_count": 51,
   "id": "043e5e5f-a8eb-414f-85f3-d68a8752e9fb",
   "metadata": {},
   "outputs": [
    {
     "data": {
      "text/plain": [
       "DecisionTreeClassifier(random_state=11)"
      ]
     },
     "execution_count": 51,
     "metadata": {},
     "output_type": "execute_result"
    }
   ],
   "source": [
    "df_model.fit(X_train, y_train) #y=answer"
   ]
  },
  {
   "cell_type": "code",
   "execution_count": 52,
   "id": "5381914c-34c5-45d4-a72a-9b15bb2e94d6",
   "metadata": {},
   "outputs": [],
   "source": [
    "pred = df_model.predict(X_test) #예측값 저장: 컴퓨터가 내놓은 정답"
   ]
  },
  {
   "cell_type": "code",
   "execution_count": 53,
   "id": "e042dea9-00b2-4eaa-a125-ba370e1462dd",
   "metadata": {},
   "outputs": [
    {
     "data": {
      "text/plain": [
       "array([0, 2, 2, 0, 0, 0, 0, 2, 1, 1, 2, 1, 2, 0, 2, 0, 0, 1, 2, 2, 2, 0,\n",
       "       2, 2, 1, 1, 1, 0, 1, 2])"
      ]
     },
     "execution_count": 53,
     "metadata": {},
     "output_type": "execute_result"
    }
   ],
   "source": [
    "pred #예측값 확인"
   ]
  },
  {
   "cell_type": "code",
   "execution_count": 54,
   "id": "fdaa2ab7-c5d0-41a5-9643-91ee2e8aee7a",
   "metadata": {},
   "outputs": [
    {
     "data": {
      "text/plain": [
       "46     0\n",
       "145    2\n",
       "110    2\n",
       "12     0\n",
       "48     0\n",
       "21     0\n",
       "11     0\n",
       "136    2\n",
       "50     1\n",
       "92     1\n",
       "131    2\n",
       "80     1\n",
       "120    2\n",
       "33     0\n",
       "128    2\n",
       "3      0\n",
       "9      0\n",
       "91     1\n",
       "118    2\n",
       "109    2\n",
       "138    2\n",
       "10     0\n",
       "141    2\n",
       "117    2\n",
       "77     1\n",
       "85     1\n",
       "81     1\n",
       "32     0\n",
       "98     1\n",
       "102    2\n",
       "Name: target, dtype: int32"
      ]
     },
     "execution_count": 54,
     "metadata": {},
     "output_type": "execute_result"
    }
   ],
   "source": [
    "y_test"
   ]
  },
  {
   "cell_type": "code",
   "execution_count": 55,
   "id": "6b954da5-6422-4806-bbc3-2133d219b249",
   "metadata": {},
   "outputs": [],
   "source": [
    "from sklearn.metrics import accuracy_score"
   ]
  },
  {
   "cell_type": "code",
   "execution_count": 56,
   "id": "d67b1aea-d5e6-45cb-a78e-86cea534ba3d",
   "metadata": {},
   "outputs": [
    {
     "data": {
      "text/plain": [
       "1.0"
      ]
     },
     "execution_count": 56,
     "metadata": {},
     "output_type": "execute_result"
    }
   ],
   "source": [
    "accuracy_score(y_test, pred)"
   ]
  },
  {
   "cell_type": "code",
   "execution_count": 57,
   "id": "aa7a301b-a1ea-4639-851b-065218dcb182",
   "metadata": {},
   "outputs": [],
   "source": [
    "def test(a,b):\n",
    "    '''\n",
    "    이함수는 결과값이 3개로 나갑니다\n",
    "    '''\n",
    "    return a+b, a-b, a*b"
   ]
  },
  {
   "cell_type": "code",
   "execution_count": 82,
   "id": "c641f0a3-b062-4e9d-9bc9-d37b4213d42d",
   "metadata": {},
   "outputs": [
    {
     "data": {
      "text/plain": [
       "(7, -1, 12)"
      ]
     },
     "execution_count": 82,
     "metadata": {},
     "output_type": "execute_result"
    }
   ],
   "source": [
    "test(3,4)"
   ]
  },
  {
   "cell_type": "code",
   "execution_count": 59,
   "id": "a73e9885-144f-4235-bc02-723ef27af53d",
   "metadata": {},
   "outputs": [],
   "source": [
    "result = test(1,2)"
   ]
  },
  {
   "cell_type": "code",
   "execution_count": 60,
   "id": "b68b24d5-7c37-46f8-9cf1-48d3e309730d",
   "metadata": {},
   "outputs": [
    {
     "data": {
      "text/plain": [
       "(3, -1, 2)"
      ]
     },
     "execution_count": 60,
     "metadata": {},
     "output_type": "execute_result"
    }
   ],
   "source": [
    "result"
   ]
  },
  {
   "cell_type": "code",
   "execution_count": 61,
   "id": "947796a4-1767-4e90-9264-171f8a167ddc",
   "metadata": {},
   "outputs": [],
   "source": [
    "r1,r2,r3 =test(3,4)"
   ]
  },
  {
   "cell_type": "code",
   "execution_count": 62,
   "id": "9da92ea5-572a-47bc-b5be-8b1856fc03e9",
   "metadata": {},
   "outputs": [
    {
     "data": {
      "text/plain": [
       "7"
      ]
     },
     "execution_count": 62,
     "metadata": {},
     "output_type": "execute_result"
    }
   ],
   "source": [
    "r1"
   ]
  },
  {
   "attachments": {
    "78a63c62-c19c-4f16-bdcf-1a1a508225ef.png": {
     "image/png": "[encoded data removed]"
    },
    "c5455f0d-43ae-4d95-b4fd-b55ef457af4e.png": {
     "image/png": "[encoded data removed]"
    }
   },
   "cell_type": "markdown",
   "id": "30d2078c-b198-462e-908b-30fe30f4e49a",
   "metadata": {
    "tags": []
   },
   "source": [
    "# 과적합 참조\n",
    "![과적합](과적합.ㅔㅜ![과적합.png](attachment:c5455f0d-43ae-4d95-b4fd-b55ef457af4e.png)![과적합.png](attachment:78a63c62-c19c-4f16-bdcf-1a1a508225ef.png))\n"
   ]
  },
  {
   "cell_type": "markdown",
   "id": "ed03a90c-136d-49e8-a204-f9c1eb45c365",
   "metadata": {},
   "source": [
    "```\n",
    "print('hello')\n",
    "```"
   ]
  },
  {
   "cell_type": "code",
   "execution_count": 63,
   "id": "ff82a826-30fe-406b-945f-1eb36b0081a9",
   "metadata": {},
   "outputs": [],
   "source": [
    "from sklearn.tree import DecisionTreeClassifier\n",
    "#평가는 매트릭스\n",
    "from sklearn.metrics import accuracy_score\n",
    "from sklearn.model_selection import KFold\n",
    "import numpy as np"
   ]
  },
  {
   "cell_type": "code",
   "execution_count": 64,
   "id": "8e21dd40-b593-4603-bb4c-32b717e72366",
   "metadata": {},
   "outputs": [],
   "source": [
    "iris = load_iris()\n",
    "#model(씨드값은 156)\n",
    "df_clf = DecisionTreeClassifier(random_state=156) \n"
   ]
  },
  {
   "cell_type": "code",
   "execution_count": 65,
   "id": "28a22601-839b-49f1-a12d-e6c8319dd067",
   "metadata": {},
   "outputs": [],
   "source": [
    "kfold = KFold(n_splits =5, shuffle=True)"
   ]
  },
  {
   "cell_type": "code",
   "execution_count": 66,
   "id": "5dff16c3-b0d6-4f8d-9e97-cf6b700e2098",
   "metadata": {},
   "outputs": [],
   "source": [
    "cv_accuracy = []"
   ]
  },
  {
   "cell_type": "code",
   "execution_count": 67,
   "id": "deda6742-9164-41c6-a2ac-a1ca10643df2",
   "metadata": {},
   "outputs": [
    {
     "data": {
      "text/plain": [
       "(150, 4)"
      ]
     },
     "execution_count": 67,
     "metadata": {},
     "output_type": "execute_result"
    }
   ],
   "source": [
    "#데이터의 건수가 몇개인가\n",
    "iris['data'].shape"
   ]
  },
  {
   "cell_type": "code",
   "execution_count": 68,
   "id": "a5044074-9671-4627-967f-55bb68b0c8c1",
   "metadata": {},
   "outputs": [
    {
     "name": "stdout",
     "output_type": "stream",
     "text": [
      "1번째 교차검증\n",
      "학습데이터 건수:120, 검증데이터 건수:30\n",
      "정확도:0.9333333333333333\n",
      "2번째 교차검증\n",
      "학습데이터 건수:120, 검증데이터 건수:30\n",
      "정확도:0.9333333333333333\n",
      "3번째 교차검증\n",
      "학습데이터 건수:120, 검증데이터 건수:30\n",
      "정확도:1.0\n",
      "4번째 교차검증\n",
      "학습데이터 건수:120, 검증데이터 건수:30\n",
      "정확도:0.9333333333333333\n",
      "5번째 교차검증\n",
      "학습데이터 건수:120, 검증데이터 건수:30\n",
      "정확도:0.8666666666666667\n",
      "0.9333333333333332\n"
     ]
    }
   ],
   "source": [
    "\n",
    "n_iter = 0\n",
    "for train_index, test_index in kfold.split(iris.data):\n",
    "    # print(train_index)\n",
    "    # print('-'*50)\n",
    "    # print(test_index)\n",
    "    # print()\n",
    "    #인덱스 기반으로 데이터 추출\n",
    "    X_train, X_test = iris.data[train_index], iris.data[test_index]\n",
    "    #print(x_train, x_test)\n",
    "    #데이터의 레이블 값\n",
    "    y_train, y_test = iris.target[train_index], iris.target[test_index]\n",
    "    df_clf.fit(X_train, y_train)\n",
    "    pred = df_clf.predict(X_test)\n",
    "    #평가 (정답, 예측값)\n",
    "    accuracy = accuracy_score(y_test, pred)\n",
    "    cv_accuracy.append(accuracy)\n",
    "    n_iter += 1\n",
    "    print(f'{n_iter}번째 교차검증')\n",
    "    print(f'학습데이터 건수:{X_train.shape[0]}, 검증데이터 건수:{X_test.shape[0]}')\n",
    "    print(f'정확도:{accuracy}')\n",
    "print(np.mean(cv_accuracy))"
   ]
  },
  {
   "cell_type": "code",
   "execution_count": 69,
   "id": "8626ccb8-5cd8-4e28-b529-805cb8eaecbb",
   "metadata": {},
   "outputs": [
    {
     "name": "stdout",
     "output_type": "stream",
     "text": [
      "학습용데이터분포:\n",
      " 1    42\n",
      "2    40\n",
      "0    38\n",
      "dtype: int64\n",
      "검증용데이터분포:\n",
      " 0    12\n",
      "2    10\n",
      "1     8\n",
      "dtype: int64\n",
      "학습용데이터분포:\n",
      " 0    43\n",
      "2    39\n",
      "1    38\n",
      "dtype: int64\n",
      "검증용데이터분포:\n",
      " 1    12\n",
      "2    11\n",
      "0     7\n",
      "dtype: int64\n",
      "학습용데이터분포:\n",
      " 1    42\n",
      "0    40\n",
      "2    38\n",
      "dtype: int64\n",
      "검증용데이터분포:\n",
      " 2    12\n",
      "0    10\n",
      "1     8\n",
      "dtype: int64\n",
      "학습용데이터분포:\n",
      " 2    43\n",
      "1    39\n",
      "0    38\n",
      "dtype: int64\n",
      "검증용데이터분포:\n",
      " 0    12\n",
      "1    11\n",
      "2     7\n",
      "dtype: int64\n",
      "학습용데이터분포:\n",
      " 0    41\n",
      "2    40\n",
      "1    39\n",
      "dtype: int64\n",
      "검증용데이터분포:\n",
      " 1    11\n",
      "2    10\n",
      "0     9\n",
      "dtype: int64\n"
     ]
    }
   ],
   "source": [
    "kfold = KFold(n_splits =5, shuffle=True)\n",
    "n_iter = 0\n",
    "for train_index, test_index in kfold.split(iris.data):\n",
    "    #인덱스 기반으로 데이터 추출\n",
    "    X_train, X_test = iris.data[train_index], iris.data[test_index]\n",
    "    #데이터의 레이블 값\n",
    "    y_train, y_test = iris.target[train_index], iris.target[test_index]\n",
    "    \n",
    "    #타입확인\n",
    "    #print(type(pd.Series(y_train)))\n",
    "    #분포를 보기 위해서 \n",
    "    print('학습용데이터분포:\\n',pd.Series(y_train).value_counts())\n",
    "    print('검증용데이터분포:\\n',pd.Series(y_test).value_counts())"
   ]
  },
  {
   "cell_type": "code",
   "execution_count": 70,
   "id": "0475884c-cd0d-4a81-bccc-80a7b091580e",
   "metadata": {},
   "outputs": [],
   "source": [
    "from sklearn.model_selection import StratifiedKFold"
   ]
  },
  {
   "cell_type": "code",
   "execution_count": 71,
   "id": "46f00d48-5d50-4aff-b3b6-5fe891997069",
   "metadata": {},
   "outputs": [
    {
     "name": "stdout",
     "output_type": "stream",
     "text": [
      "학습용데이터분포:\n",
      " 0    40\n",
      "1    40\n",
      "2    40\n",
      "dtype: int64\n",
      "검증용데이터분포:\n",
      " 0    10\n",
      "1    10\n",
      "2    10\n",
      "dtype: int64\n",
      "학습용데이터분포:\n",
      " 0    40\n",
      "1    40\n",
      "2    40\n",
      "dtype: int64\n",
      "검증용데이터분포:\n",
      " 0    10\n",
      "1    10\n",
      "2    10\n",
      "dtype: int64\n",
      "학습용데이터분포:\n",
      " 0    40\n",
      "1    40\n",
      "2    40\n",
      "dtype: int64\n",
      "검증용데이터분포:\n",
      " 0    10\n",
      "1    10\n",
      "2    10\n",
      "dtype: int64\n",
      "학습용데이터분포:\n",
      " 0    40\n",
      "1    40\n",
      "2    40\n",
      "dtype: int64\n",
      "검증용데이터분포:\n",
      " 0    10\n",
      "1    10\n",
      "2    10\n",
      "dtype: int64\n",
      "학습용데이터분포:\n",
      " 0    40\n",
      "1    40\n",
      "2    40\n",
      "dtype: int64\n",
      "검증용데이터분포:\n",
      " 0    10\n",
      "1    10\n",
      "2    10\n",
      "dtype: int64\n"
     ]
    }
   ],
   "source": [
    "skfold = StratifiedKFold(n_splits =5, shuffle=True)\n",
    "n_iter = 0\n",
    "for train_index, test_index in skfold.split(iris.data, iris.target):\n",
    "    #인덱스 기반으로 데이터 추출\n",
    "    X_train, X_test = iris.data[train_index], iris.data[test_index]\n",
    "    #데이터의 레이블 값\n",
    "    y_train, y_test = iris.target[train_index], iris.target[test_index]\n",
    "    \n",
    "    #타입확인\n",
    "    #print(type(pd.Series(y_train)))\n",
    "    #분포를 보기 위해서 \n",
    "    print('학습용데이터분포:\\n',pd.Series(y_train).value_counts())\n",
    "    print('검증용데이터분포:\\n',pd.Series(y_test).value_counts())"
   ]
  },
  {
   "cell_type": "code",
   "execution_count": 115,
   "id": "64bbb0f7-2d83-484c-a2c2-1c0ddcad9985",
   "metadata": {},
   "outputs": [
    {
     "name": "stdout",
     "output_type": "stream",
     "text": [
      "1번째 교차검증\n",
      "학습데이터 건수:120, 검증데이터 건수:30\n",
      "정확도:0.9333333333333333\n",
      "2번째 교차검증\n",
      "학습데이터 건수:120, 검증데이터 건수:30\n",
      "정확도:0.9666666666666667\n",
      "3번째 교차검증\n",
      "학습데이터 건수:120, 검증데이터 건수:30\n",
      "정확도:0.9\n",
      "4번째 교차검증\n",
      "학습데이터 건수:120, 검증데이터 건수:30\n",
      "정확도:0.9\n",
      "5번째 교차검증\n",
      "학습데이터 건수:120, 검증데이터 건수:30\n",
      "정확도:0.9333333333333333\n",
      "0.9266666666666665\n"
     ]
    }
   ],
   "source": [
    "skfold = StratifiedKFold(n_splits =5, shuffle=True)\n",
    "n_iter = 0\n",
    "cv_accuracy=[]\n",
    "for train_index, test_index in skfold.split(iris.data, iris.target):\n",
    "    #인덱스 기반으로 데이터 추출\n",
    "    X_train, X_test = iris.data[train_index], iris.data[test_index]\n",
    "    #print(x_train, x_test)\n",
    "    #데이터의 레이블 값\n",
    "    y_train, y_test = iris.target[train_index], iris.target[test_index]\n",
    "    df_clf.fit(X_train, y_train)\n",
    "    pred = df_clf.predict(X_test)\n",
    "    #평가 (정답, 예측값)\n",
    "    accuracy = accuracy_score(y_test, pred)\n",
    "    cv_accuracy.append(accuracy)\n",
    "    n_iter += 1\n",
    "    print(f'{n_iter}번째 교차검증')\n",
    "    print(f'학습데이터 건수:{X_train.shape[0]}, 검증데이터 건수:{X_test.shape[0]}')\n",
    "    print(f'정확도:{accuracy}')\n",
    "print(np.mean(cv_accuracy))"
   ]
  },
  {
   "cell_type": "markdown",
   "id": "d45d3109-272e-4e74-8e0f-e7fa0fc479e7",
   "metadata": {},
   "source": [
    "# 2022.06.09"
   ]
  },
  {
   "cell_type": "code",
   "execution_count": 73,
   "id": "48df5d97-015b-4f4b-a3d3-2617cd395537",
   "metadata": {},
   "outputs": [],
   "source": [
    "from sklearn.tree import DecisionTreeClassifier\n",
    "from sklearn.model_selection import cross_val_score\n",
    "from sklearn.datasets import load_iris"
   ]
  },
  {
   "cell_type": "code",
   "execution_count": 74,
   "id": "9923d375-9d09-4d38-b3ca-29a3995ca4c2",
   "metadata": {},
   "outputs": [],
   "source": [
    "iris_data = load_iris()\n",
    "dt_clf =DecisionTreeClassifier(random_state=156) #분류용, 랜덤씨드값"
   ]
  },
  {
   "cell_type": "code",
   "execution_count": 75,
   "id": "7625ebc1-c8ac-4cc8-aff9-bcec427891ae",
   "metadata": {},
   "outputs": [],
   "source": [
    "scores = cross_val_score(dt_clf, iris_data.data, iris_data.target, scoring='accuracy', cv=3)"
   ]
  },
  {
   "cell_type": "code",
   "execution_count": 76,
   "id": "53e39ebd-b99b-44f3-8ab5-63a251523911",
   "metadata": {},
   "outputs": [
    {
     "name": "stdout",
     "output_type": "stream",
     "text": [
      "교차검증별 정확도: [0.98 0.94 0.98]\n",
      "평균교차검증 정확도: 0.9666666666666667\n"
     ]
    }
   ],
   "source": [
    "import numpy as np\n",
    "print('교차검증별 정확도:', scores)\n",
    "print('평균교차검증 정확도:', np.mean(scores))"
   ]
  },
  {
   "cell_type": "code",
   "execution_count": 77,
   "id": "cfbaa08c-1840-421d-bc77-12d010978470",
   "metadata": {},
   "outputs": [],
   "source": [
    "from sklearn.model_selection import GridSearchCV, train_test_split"
   ]
  },
  {
   "cell_type": "code",
   "execution_count": 91,
   "id": "20372f05-3019-4603-b411-5402e9bc46d3",
   "metadata": {},
   "outputs": [],
   "source": [
    "grid_param = {'max_depth':[1,2,3], 'min_samples_split':[2,3]}"
   ]
  },
  {
   "cell_type": "code",
   "execution_count": 92,
   "id": "846eaadc-2c26-4eee-a673-d40da5a67188",
   "metadata": {},
   "outputs": [],
   "source": [
    "iris = load_iris()\n",
    "X_train, X_test, y_train, y_test = train_test_split(iris.data, \n",
    "                                                   iris.target,\n",
    "                                                   test_size = 0.2,\n",
    "                                                    random_state=121)\n",
    "dtree= DecisionTreeClassifier() # = estimator\n",
    "grid_dtree = GridSearchCV(dtree, param_grid = grid_param,\n",
    "                         cv=3, refit=True) #객체를 생성"
   ]
  },
  {
   "cell_type": "code",
   "execution_count": 94,
   "id": "b3e92f60-90b5-4b4c-ba36-7ee1740c9af6",
   "metadata": {},
   "outputs": [
    {
     "data": {
      "text/plain": [
       "GridSearchCV(cv=3, estimator=DecisionTreeClassifier(),\n",
       "             param_grid={'max_depth': [1, 2, 3], 'min_samples_split': [2, 3]})"
      ]
     },
     "execution_count": 94,
     "metadata": {},
     "output_type": "execute_result"
    }
   ],
   "source": [
    "grid_dtree.fit(X_train, y_train) #fit(학습할 데이터, lable): 학습"
   ]
  },
  {
   "cell_type": "code",
   "execution_count": 95,
   "id": "39d8ccc1-35fb-4855-ae59-46fed108aabb",
   "metadata": {},
   "outputs": [
    {
     "data": {
      "text/plain": [
       "{'mean_fit_time': array([0.00066487, 0.0009973 , 0.00100064, 0.00033029, 0.0003318 ,\n",
       "        0.00031519]),\n",
       " 'std_fit_time': array([4.70134691e-04, 5.15042996e-07, 5.22711552e-06, 4.67099473e-04,\n",
       "        4.69234913e-04, 4.45745070e-04]),\n",
       " 'mean_score_time': array([0.00033251, 0.        , 0.        , 0.00036208, 0.        ,\n",
       "        0.0003496 ]),\n",
       " 'std_score_time': array([0.00047025, 0.        , 0.        , 0.00051206, 0.        ,\n",
       "        0.00049441]),\n",
       " 'param_max_depth': masked_array(data=[1, 1, 2, 2, 3, 3],\n",
       "              mask=[False, False, False, False, False, False],\n",
       "        fill_value='?',\n",
       "             dtype=object),\n",
       " 'param_min_samples_split': masked_array(data=[2, 3, 2, 3, 2, 3],\n",
       "              mask=[False, False, False, False, False, False],\n",
       "        fill_value='?',\n",
       "             dtype=object),\n",
       " 'params': [{'max_depth': 1, 'min_samples_split': 2},\n",
       "  {'max_depth': 1, 'min_samples_split': 3},\n",
       "  {'max_depth': 2, 'min_samples_split': 2},\n",
       "  {'max_depth': 2, 'min_samples_split': 3},\n",
       "  {'max_depth': 3, 'min_samples_split': 2},\n",
       "  {'max_depth': 3, 'min_samples_split': 3}],\n",
       " 'split0_test_score': array([0.7  , 0.7  , 0.925, 0.925, 0.975, 0.975]),\n",
       " 'split1_test_score': array([0.7, 0.7, 1. , 1. , 1. , 1. ]),\n",
       " 'split2_test_score': array([0.7 , 0.7 , 0.95, 0.95, 0.95, 0.95]),\n",
       " 'mean_test_score': array([0.7       , 0.7       , 0.95833333, 0.95833333, 0.975     ,\n",
       "        0.975     ]),\n",
       " 'std_test_score': array([1.11022302e-16, 1.11022302e-16, 3.11804782e-02, 3.11804782e-02,\n",
       "        2.04124145e-02, 2.04124145e-02]),\n",
       " 'rank_test_score': array([5, 5, 3, 3, 1, 1])}"
      ]
     },
     "execution_count": 95,
     "metadata": {},
     "output_type": "execute_result"
    }
   ],
   "source": [
    "#인스턴스는 ()필요없음\n",
    "grid_dtree.cv_results_"
   ]
  },
  {
   "cell_type": "code",
   "execution_count": 96,
   "id": "d1c9d6a2-0b3d-40e5-9fe6-71b1dfa3b9b2",
   "metadata": {},
   "outputs": [],
   "source": [
    "import pandas as pd\n",
    "scores_df = pd.DataFrame(grid_dtree.cv_results_)"
   ]
  },
  {
   "cell_type": "code",
   "execution_count": 97,
   "id": "b9069edf-9f0f-41dc-afbe-8e2e2448b354",
   "metadata": {},
   "outputs": [
    {
     "data": {
      "text/plain": [
       "Index(['mean_fit_time', 'std_fit_time', 'mean_score_time', 'std_score_time',\n",
       "       'param_max_depth', 'param_min_samples_split', 'params',\n",
       "       'split0_test_score', 'split1_test_score', 'split2_test_score',\n",
       "       'mean_test_score', 'std_test_score', 'rank_test_score'],\n",
       "      dtype='object')"
      ]
     },
     "execution_count": 97,
     "metadata": {},
     "output_type": "execute_result"
    }
   ],
   "source": [
    "scores_df.columns"
   ]
  },
  {
   "cell_type": "code",
   "execution_count": 102,
   "id": "86568e31-e2ff-40e5-85df-223ea5310c7d",
   "metadata": {},
   "outputs": [
    {
     "data": {
      "text/html": [
       "<div>\n",
       "<style scoped>\n",
       "    .dataframe tbody tr th:only-of-type {\n",
       "        vertical-align: middle;\n",
       "    }\n",
       "\n",
       "    .dataframe tbody tr th {\n",
       "        vertical-align: top;\n",
       "    }\n",
       "\n",
       "    .dataframe thead th {\n",
       "        text-align: right;\n",
       "    }\n",
       "</style>\n",
       "<table border=\"1\" class=\"dataframe\">\n",
       "  <thead>\n",
       "    <tr style=\"text-align: right;\">\n",
       "      <th></th>\n",
       "      <th>params</th>\n",
       "      <th>mean_test_score</th>\n",
       "      <th>rank_test_score</th>\n",
       "      <th>split0_test_score</th>\n",
       "      <th>split1_test_score</th>\n",
       "      <th>split2_test_score</th>\n",
       "    </tr>\n",
       "  </thead>\n",
       "  <tbody>\n",
       "    <tr>\n",
       "      <th>0</th>\n",
       "      <td>{'max_depth': 1, 'min_samples_split': 2}</td>\n",
       "      <td>0.700000</td>\n",
       "      <td>5</td>\n",
       "      <td>0.700</td>\n",
       "      <td>0.7</td>\n",
       "      <td>0.70</td>\n",
       "    </tr>\n",
       "    <tr>\n",
       "      <th>1</th>\n",
       "      <td>{'max_depth': 1, 'min_samples_split': 3}</td>\n",
       "      <td>0.700000</td>\n",
       "      <td>5</td>\n",
       "      <td>0.700</td>\n",
       "      <td>0.7</td>\n",
       "      <td>0.70</td>\n",
       "    </tr>\n",
       "    <tr>\n",
       "      <th>2</th>\n",
       "      <td>{'max_depth': 2, 'min_samples_split': 2}</td>\n",
       "      <td>0.958333</td>\n",
       "      <td>3</td>\n",
       "      <td>0.925</td>\n",
       "      <td>1.0</td>\n",
       "      <td>0.95</td>\n",
       "    </tr>\n",
       "    <tr>\n",
       "      <th>3</th>\n",
       "      <td>{'max_depth': 2, 'min_samples_split': 3}</td>\n",
       "      <td>0.958333</td>\n",
       "      <td>3</td>\n",
       "      <td>0.925</td>\n",
       "      <td>1.0</td>\n",
       "      <td>0.95</td>\n",
       "    </tr>\n",
       "    <tr>\n",
       "      <th>4</th>\n",
       "      <td>{'max_depth': 3, 'min_samples_split': 2}</td>\n",
       "      <td>0.975000</td>\n",
       "      <td>1</td>\n",
       "      <td>0.975</td>\n",
       "      <td>1.0</td>\n",
       "      <td>0.95</td>\n",
       "    </tr>\n",
       "    <tr>\n",
       "      <th>5</th>\n",
       "      <td>{'max_depth': 3, 'min_samples_split': 3}</td>\n",
       "      <td>0.975000</td>\n",
       "      <td>1</td>\n",
       "      <td>0.975</td>\n",
       "      <td>1.0</td>\n",
       "      <td>0.95</td>\n",
       "    </tr>\n",
       "  </tbody>\n",
       "</table>\n",
       "</div>"
      ],
      "text/plain": [
       "                                     params  mean_test_score  rank_test_score  \\\n",
       "0  {'max_depth': 1, 'min_samples_split': 2}         0.700000                5   \n",
       "1  {'max_depth': 1, 'min_samples_split': 3}         0.700000                5   \n",
       "2  {'max_depth': 2, 'min_samples_split': 2}         0.958333                3   \n",
       "3  {'max_depth': 2, 'min_samples_split': 3}         0.958333                3   \n",
       "4  {'max_depth': 3, 'min_samples_split': 2}         0.975000                1   \n",
       "5  {'max_depth': 3, 'min_samples_split': 3}         0.975000                1   \n",
       "\n",
       "   split0_test_score  split1_test_score  split2_test_score  \n",
       "0              0.700                0.7               0.70  \n",
       "1              0.700                0.7               0.70  \n",
       "2              0.925                1.0               0.95  \n",
       "3              0.925                1.0               0.95  \n",
       "4              0.975                1.0               0.95  \n",
       "5              0.975                1.0               0.95  "
      ]
     },
     "execution_count": 102,
     "metadata": {},
     "output_type": "execute_result"
    }
   ],
   "source": [
    "scores_df[['params',\n",
    "           'mean_test_score',\n",
    "           'rank_test_score',\n",
    "           'split0_test_score', \n",
    "           'split1_test_score', \n",
    "           'split2_test_score']]"
   ]
  },
  {
   "cell_type": "code",
   "execution_count": 109,
   "id": "b6f92916-ca93-4461-839d-9885659e357c",
   "metadata": {},
   "outputs": [
    {
     "data": {
      "text/plain": [
       "0.975"
      ]
     },
     "execution_count": 109,
     "metadata": {},
     "output_type": "execute_result"
    }
   ],
   "source": [
    "grid_dtree.best_score_"
   ]
  },
  {
   "cell_type": "code",
   "execution_count": 110,
   "id": "db121654-29d8-43a1-aab3-99b042fd6863",
   "metadata": {},
   "outputs": [
    {
     "data": {
      "text/plain": [
       "4"
      ]
     },
     "execution_count": 110,
     "metadata": {},
     "output_type": "execute_result"
    }
   ],
   "source": [
    "grid_dtree.best_index_"
   ]
  },
  {
   "cell_type": "code",
   "execution_count": 111,
   "id": "17b31492-d029-4eb4-8f7e-820e6f9bbaca",
   "metadata": {},
   "outputs": [
    {
     "data": {
      "text/plain": [
       "array([1, 2, 1, 0, 0, 1, 1, 1, 1, 2, 2, 1, 1, 0, 0, 2, 1, 0, 2, 0, 2, 2,\n",
       "       1, 1, 1, 1, 0, 0, 2, 2])"
      ]
     },
     "execution_count": 111,
     "metadata": {},
     "output_type": "execute_result"
    }
   ],
   "source": [
    "pred = grid_dtree.best_estimator_.predict(X_test)  #결과값출력, 변수 저장\n",
    "pred"
   ]
  },
  {
   "cell_type": "code",
   "execution_count": 112,
   "id": "cac3d23b-02b6-4145-83f3-845eba200023",
   "metadata": {},
   "outputs": [],
   "source": [
    "from sklearn.metrics import accuracy_score"
   ]
  },
  {
   "cell_type": "code",
   "execution_count": 114,
   "id": "86d34219-8f23-48bc-8be4-a084a7d0ed02",
   "metadata": {},
   "outputs": [
    {
     "name": "stdout",
     "output_type": "stream",
     "text": [
      "best estimator 정확도 0.9666666666666667\n"
     ]
    }
   ],
   "source": [
    "print('best estimator 정확도', accuracy_score(y_test, pred))"
   ]
  },
  {
   "cell_type": "code",
   "execution_count": 116,
   "id": "0050271f-aa45-4605-99a7-3c05abe14058",
   "metadata": {},
   "outputs": [],
   "source": [
    "from sklearn.preprocessing import LabelEncoder"
   ]
  },
  {
   "cell_type": "code",
   "execution_count": 117,
   "id": "8b98ff9c-a11e-4591-b0a6-4276774f6fe5",
   "metadata": {},
   "outputs": [],
   "source": [
    "items = ['TV','냉장고', '전자레인지', '컴퓨터', '선풍기', '선풍기', '믹서', '믹서']"
   ]
  },
  {
   "cell_type": "code",
   "execution_count": 119,
   "id": "96b16a55-5283-4adb-9764-89a550f5fabd",
   "metadata": {},
   "outputs": [],
   "source": [
    "encoder = LabelEncoder()\n",
    "encoder.fit(items) #정보수집해서 중복처리하고 일련의 번호를 매기는 기초작업\n",
    "labels = encoder.transform(items) #변경이 목표"
   ]
  },
  {
   "cell_type": "code",
   "execution_count": 120,
   "id": "00fdcd82-2c28-47f7-a272-9e93f0fdf08b",
   "metadata": {},
   "outputs": [
    {
     "data": {
      "text/plain": [
       "array(['TV', '냉장고', '믹서', '선풍기', '전자레인지', '컴퓨터'], dtype='<U5')"
      ]
     },
     "execution_count": 120,
     "metadata": {},
     "output_type": "execute_result"
    }
   ],
   "source": [
    "encoder.classes_#목록표 만들기:일련번호는 인덱스 값"
   ]
  },
  {
   "cell_type": "code",
   "execution_count": 123,
   "id": "f9d48cbf-7104-4291-807d-1f095476cb7d",
   "metadata": {},
   "outputs": [
    {
     "data": {
      "text/plain": [
       "array(['TV', '냉장고', '전자레인지', '컴퓨터', '선풍기', '선풍기', '믹서', '믹서'], dtype='<U5')"
      ]
     },
     "execution_count": 123,
     "metadata": {},
     "output_type": "execute_result"
    }
   ],
   "source": [
    "encoder.inverse_transform(labels)"
   ]
  },
  {
   "cell_type": "code",
   "execution_count": 124,
   "id": "5504e1ba-591a-4118-b810-b1d837dcaaa5",
   "metadata": {},
   "outputs": [],
   "source": [
    "from sklearn.preprocessing import OneHotEncoder"
   ]
  },
  {
   "cell_type": "code",
   "execution_count": 125,
   "id": "e0ef4e03-d90b-405c-a087-5585cc611226",
   "metadata": {},
   "outputs": [],
   "source": [
    "items = ['TV','냉장고', '전자레인지', '컴퓨터', '선풍기', '선풍기', '믹서', '믹서']"
   ]
  },
  {
   "cell_type": "code",
   "execution_count": 126,
   "id": "b7721176-d2ce-48df-a11e-646c0e84e7a1",
   "metadata": {},
   "outputs": [
    {
     "data": {
      "text/plain": [
       "array([0, 1, 4, 5, 3, 3, 2, 2], dtype=int64)"
      ]
     },
     "execution_count": 126,
     "metadata": {},
     "output_type": "execute_result"
    }
   ],
   "source": [
    "encoder = LabelEncoder()\n",
    "labels = encoder.fit_transform(items)\n",
    "labels"
   ]
  },
  {
   "cell_type": "code",
   "execution_count": 130,
   "id": "e4428e7d-410f-41ed-90de-effaa76f6629",
   "metadata": {},
   "outputs": [
    {
     "data": {
      "text/plain": [
       "(8, 1)"
      ]
     },
     "execution_count": 130,
     "metadata": {},
     "output_type": "execute_result"
    }
   ],
   "source": [
    "labels.shape\n",
    "labels = labels.reshape(-1, 1)\n",
    "labels.shape"
   ]
  },
  {
   "cell_type": "code",
   "execution_count": 155,
   "id": "9860a0f0-f933-473f-9111-8a71846e4b3a",
   "metadata": {},
   "outputs": [],
   "source": [
    "oh_encoder = OneHotEncoder(sparse=True)\n",
    "oh_labels = oh_encoder.fit_transform(labels)"
   ]
  },
  {
   "cell_type": "code",
   "execution_count": 156,
   "id": "45c7a644-8a08-4ba0-b87e-7f2ac781881d",
   "metadata": {},
   "outputs": [
    {
     "data": {
      "text/plain": [
       "[array([0, 1, 2, 3, 4, 5], dtype=int64)]"
      ]
     },
     "execution_count": 156,
     "metadata": {},
     "output_type": "execute_result"
    }
   ],
   "source": [
    "oh_encoder.categories_"
   ]
  },
  {
   "cell_type": "code",
   "execution_count": 157,
   "id": "a246c3e2-9598-40f4-acce-018504f4a0b4",
   "metadata": {},
   "outputs": [
    {
     "data": {
      "text/plain": [
       "True"
      ]
     },
     "execution_count": 157,
     "metadata": {},
     "output_type": "execute_result"
    }
   ],
   "source": [
    "oh_encoder.sparse"
   ]
  },
  {
   "cell_type": "code",
   "execution_count": 158,
   "id": "e7b68bf6-ec54-4350-8c95-267936225dd9",
   "metadata": {},
   "outputs": [
    {
     "data": {
      "text/plain": [
       "OneHotEncoder()"
      ]
     },
     "execution_count": 158,
     "metadata": {},
     "output_type": "execute_result"
    }
   ],
   "source": [
    "oh_encoder"
   ]
  },
  {
   "cell_type": "code",
   "execution_count": 159,
   "id": "ddfc03f7-0a4e-41c9-8726-bdb4585db522",
   "metadata": {},
   "outputs": [
    {
     "data": {
      "text/plain": [
       "array([[1., 0., 0., 0., 0., 0.],\n",
       "       [0., 1., 0., 0., 0., 0.],\n",
       "       [0., 0., 0., 0., 1., 0.],\n",
       "       [0., 0., 0., 0., 0., 1.],\n",
       "       [0., 0., 0., 1., 0., 0.],\n",
       "       [0., 0., 0., 1., 0., 0.],\n",
       "       [0., 0., 1., 0., 0., 0.],\n",
       "       [0., 0., 1., 0., 0., 0.]])"
      ]
     },
     "execution_count": 159,
     "metadata": {},
     "output_type": "execute_result"
    }
   ],
   "source": [
    "oh_labels.toarray()"
   ]
  },
  {
   "cell_type": "code",
   "execution_count": 160,
   "id": "7bf29ae9-399a-43ee-a9e6-c106e6804c0b",
   "metadata": {},
   "outputs": [],
   "source": [
    "df = pd.DataFrame({'item' :  ['TV','냉장고', '전자레인지', '컴퓨터', '선풍기', '선풍기', '믹서', '믹서']})"
   ]
  },
  {
   "cell_type": "code",
   "execution_count": 161,
   "id": "cacad522-5461-410e-b49d-793ce0f55d07",
   "metadata": {},
   "outputs": [
    {
     "data": {
      "text/html": [
       "<div>\n",
       "<style scoped>\n",
       "    .dataframe tbody tr th:only-of-type {\n",
       "        vertical-align: middle;\n",
       "    }\n",
       "\n",
       "    .dataframe tbody tr th {\n",
       "        vertical-align: top;\n",
       "    }\n",
       "\n",
       "    .dataframe thead th {\n",
       "        text-align: right;\n",
       "    }\n",
       "</style>\n",
       "<table border=\"1\" class=\"dataframe\">\n",
       "  <thead>\n",
       "    <tr style=\"text-align: right;\">\n",
       "      <th></th>\n",
       "      <th>item</th>\n",
       "    </tr>\n",
       "  </thead>\n",
       "  <tbody>\n",
       "    <tr>\n",
       "      <th>0</th>\n",
       "      <td>TV</td>\n",
       "    </tr>\n",
       "    <tr>\n",
       "      <th>1</th>\n",
       "      <td>냉장고</td>\n",
       "    </tr>\n",
       "    <tr>\n",
       "      <th>2</th>\n",
       "      <td>전자레인지</td>\n",
       "    </tr>\n",
       "    <tr>\n",
       "      <th>3</th>\n",
       "      <td>컴퓨터</td>\n",
       "    </tr>\n",
       "    <tr>\n",
       "      <th>4</th>\n",
       "      <td>선풍기</td>\n",
       "    </tr>\n",
       "    <tr>\n",
       "      <th>5</th>\n",
       "      <td>선풍기</td>\n",
       "    </tr>\n",
       "    <tr>\n",
       "      <th>6</th>\n",
       "      <td>믹서</td>\n",
       "    </tr>\n",
       "    <tr>\n",
       "      <th>7</th>\n",
       "      <td>믹서</td>\n",
       "    </tr>\n",
       "  </tbody>\n",
       "</table>\n",
       "</div>"
      ],
      "text/plain": [
       "    item\n",
       "0     TV\n",
       "1    냉장고\n",
       "2  전자레인지\n",
       "3    컴퓨터\n",
       "4    선풍기\n",
       "5    선풍기\n",
       "6     믹서\n",
       "7     믹서"
      ]
     },
     "execution_count": 161,
     "metadata": {},
     "output_type": "execute_result"
    }
   ],
   "source": [
    "df "
   ]
  },
  {
   "cell_type": "code",
   "execution_count": 163,
   "id": "54a78b77-cf66-4ff5-ada9-bcc8a0d0a712",
   "metadata": {},
   "outputs": [
    {
     "data": {
      "text/plain": [
       "array([[1, 0, 0, 0, 0, 0],\n",
       "       [0, 1, 0, 0, 0, 0],\n",
       "       [0, 0, 0, 0, 1, 0],\n",
       "       [0, 0, 0, 0, 0, 1],\n",
       "       [0, 0, 0, 1, 0, 0],\n",
       "       [0, 0, 0, 1, 0, 0],\n",
       "       [0, 0, 1, 0, 0, 0],\n",
       "       [0, 0, 1, 0, 0, 0]], dtype=uint8)"
      ]
     },
     "execution_count": 163,
     "metadata": {},
     "output_type": "execute_result"
    }
   ],
   "source": [
    "pd.get_dummies(df).values"
   ]
  },
  {
   "cell_type": "code",
   "execution_count": null,
   "id": "80087662-9adf-4eaa-a7fd-9a1bd15c096c",
   "metadata": {},
   "outputs": [],
   "source": []
  }
 ],
 "metadata": {
  "kernelspec": {
   "display_name": "Python 3 (ipykernel)",
   "language": "python",
   "name": "python3"
  },
  "language_info": {
   "codemirror_mode": {
    "name": "ipython",
    "version": 3
   },
   "file_extension": ".py",
   "mimetype": "text/x-python",
   "name": "python",
   "nbconvert_exporter": "python",
   "pygments_lexer": "ipython3",
   "version": "3.9.7"
  }
 },
 "nbformat": 4,
 "nbformat_minor": 5
}
